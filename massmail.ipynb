{
 "cells": [
  {
   "cell_type": "code",
   "execution_count": 3,
   "id": "2e52e6f8",
   "metadata": {},
   "outputs": [],
   "source": [
    "import numpy as np\n",
    "import pandas as pd \n",
    "from PIL import Image, ImageDraw, ImageFont\n",
    "import smtplib\n",
    "from email.mime.multipart import MIMEMultipart\n",
    "from email.mime.text import MIMEText\n",
    "from email.mime.base import MIMEBase\n",
    "from email import encoders\n",
    "data=pd.read_csv(\"jo.csv\")"
   ]
  },
  {
   "cell_type": "code",
   "execution_count": 4,
   "id": "69804608",
   "metadata": {},
   "outputs": [
    {
     "name": "stdout",
     "output_type": "stream",
     "text": [
      "sent to Karan K V\n"
     ]
    }
   ],
   "source": [
    "name_list = data[\"Name (For Certificate)\"].tolist() \n",
    "mail_list = data[\"Email\"].tolist() \n",
    "\n",
    "for name, mail in zip(name_list, mail_list):\n",
    "    im = Image.open('certificate.jpeg') #over here put what is the name of your certificate template like karan.png\n",
    "    #make sure the csv file and certificate is in same folder\n",
    "    \n",
    "    d = ImageDraw.Draw(im)\n",
    "    location = (480,330)\n",
    "    text_color = (2, 48, 32)\n",
    "    font = ImageFont.truetype(\"JosefinSans-SemiBold.ttf\", 60)\n",
    "    d.text(location, name, fill = text_color, font = font)\n",
    "    im.save( name + \".jpeg\")\n",
    "\n",
    "\n",
    "    fromaddr = \"dustbin.hacker.mail@gmail.com\"  #put you mail here.\n",
    "    password=\"HACKERMAIL\" #put your password here\n",
    "    toaddr = mail   #it waill take name from csv file\n",
    "\n",
    "    # instance of MIMEMultipart\n",
    "    msg = MIMEMultipart()\n",
    "\n",
    "    # storing the senders email address\n",
    "    msg['From'] = fromaddr\n",
    "\n",
    "    # storing the receivers email address\n",
    "    msg['To'] = toaddr\n",
    "\n",
    "    # storing the subject\n",
    "    msg['Subject'] = \"Karan Avargaley\"\n",
    "    \n",
    "    body = '''Hello, '''+name+'''\n",
    "    Hey da ena panra'''\n",
    "\n",
    "    # attach the body with the msg instance\n",
    "    msg.attach(MIMEText(body, 'plain'))\n",
    "    \n",
    "    # open the file to be sent\n",
    "    filename = name+\".jpeg\"\n",
    "    attachment = open(filename, \"rb\")\n",
    "\n",
    "    # instance of MIMEBase and named as p\n",
    "    p = MIMEBase('application', 'octet-stream')\n",
    "\n",
    "    # To change the payload into encoded form\n",
    "    p.set_payload((attachment).read())\n",
    "\n",
    "    # encode into base64\n",
    "    encoders.encode_base64(p)\n",
    "\n",
    "    p.add_header('Content-Disposition', \"attachment; filename= %s\" % filename)\n",
    "\n",
    "    # attach the instance 'p' to instance 'msg'\n",
    "    msg.attach(p)\n",
    "\n",
    "    # creates SMTP session\n",
    "    s = smtplib.SMTP('smtp.gmail.com', 587)\n",
    "\n",
    "    # start TLS for security\n",
    "    s.starttls()\n",
    "\n",
    "    # Authentication\n",
    "    s.login(fromaddr, password) \n",
    "    \n",
    "    # Converts the Multipart msg into a string\n",
    "    text = msg.as_string()\n",
    "\n",
    "    # sending the mail\n",
    "    s.sendmail(fromaddr, toaddr, text)\n",
    "    print(\"sent to \" +name)"
   ]
  },
  {
   "cell_type": "code",
   "execution_count": null,
   "id": "23e579eb",
   "metadata": {},
   "outputs": [],
   "source": []
  }
 ],
 "metadata": {
  "kernelspec": {
   "display_name": "Python 3",
   "language": "python",
   "name": "python3"
  },
  "language_info": {
   "codemirror_mode": {
    "name": "ipython",
    "version": 3
   },
   "file_extension": ".py",
   "mimetype": "text/x-python",
   "name": "python",
   "nbconvert_exporter": "python",
   "pygments_lexer": "ipython3",
   "version": "3.9.5"
  }
 },
 "nbformat": 4,
 "nbformat_minor": 5
}
